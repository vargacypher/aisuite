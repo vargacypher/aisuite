{
 "cells": [
  {
   "cell_type": "code",
   "execution_count": 4,
   "metadata": {},
   "outputs": [
    {
     "data": {
      "text/plain": [
       "True"
      ]
     },
     "execution_count": 4,
     "metadata": {},
     "output_type": "execute_result"
    }
   ],
   "source": [
    "import json\n",
    "import sys\n",
    "from dotenv import load_dotenv, find_dotenv\n",
    "import os\n",
    "\n",
    "sys.path.append('../../aisuite')\n",
    "\n",
    "# Load from .env file if available\n",
    "load_dotenv(find_dotenv())"
   ]
  },
  {
   "cell_type": "markdown",
   "metadata": {},
   "source": [
    "## Make a request to model without tools"
   ]
  },
  {
   "cell_type": "code",
   "execution_count": null,
   "metadata": {},
   "outputs": [
    {
     "name": "stdout",
     "output_type": "stream",
     "text": [
      "For model: googlegenai:gemini-2.0-flash-001\n",
      "I do not have access to real-time information, including current temperatures. To find the current temperature in San Francisco, I recommend:\n",
      "\n",
      "*   **Using a weather website or app:** Popular options include Google Weather, AccuWeather, The Weather Channel, or local news websites.\n",
      "*   **Searching on Google:** A simple search like \"current temperature in San Francisco\" will usually display the temperature in a box at the top of the results.\n"
     ]
    }
   ],
   "source": [
    "from aisuite import Client\n",
    "\n",
    "client = Client({\n",
    "    \"googlegenai\":{\n",
    "        \"project_id\": \"project-id\",\n",
    "        \"region\": \"region\",\n",
    "        \"vertexai_option\": True\n",
    "    }\n",
    "})\n",
    "\n",
    "model = \"googlegenai:gemini-2.0-flash-001\"\n",
    "\n",
    "messages = [{\n",
    "    \"role\": \"user\",\n",
    "    \"content\": \"What is the current temperature in San Francisco in Celsius?\"}]\n",
    "\n",
    "response = client.chat.completions.create(\n",
    "    model=model, messages=messages)\n",
    "\n",
    "print(\"For model: \" + model)\n",
    "print(response.choices[0].message.content)"
   ]
  },
  {
   "cell_type": "markdown",
   "metadata": {},
   "source": [
    "## Equip model with tools"
   ]
  },
  {
   "cell_type": "markdown",
   "metadata": {},
   "source": [
    "### Define the functions"
   ]
  },
  {
   "cell_type": "code",
   "execution_count": 11,
   "metadata": {},
   "outputs": [],
   "source": [
    "# Mock tool functions.\n",
    "def get_current_temperature(location: str, unit: str):\n",
    "    # Simulate fetching temperature from an API\n",
    "    return {\"temperature\": 72}\n",
    "\n",
    "def get_rain_probability(location: str):\n",
    "    # Simulate fetching rain probability\n",
    "    return {\"location\": location, \"probability\": 40}\n",
    "\n",
    "# Function to get the available tools (functions) to provide to the model\n",
    "# Note: we could use decorators or utils from OpenAI to generate this.\n",
    "def get_available_tools():\n",
    "    return [\n",
    "        {   \"type\": \"function\",\n",
    "            \"function\": {\n",
    "                \"name\": \"get_current_temperature\",\n",
    "                \"description\": \"Get the current temperature for a specific location\",\n",
    "                \"parameters\": {\n",
    "                    \"type\": \"object\",\n",
    "                    \"properties\": {\n",
    "                        \"location\": {\n",
    "                            \"type\": \"string\",\n",
    "                            \"description\": \"The city and state, e.g., San Francisco, CA\"\n",
    "                        },\n",
    "                        \"unit\": {\n",
    "                            \"type\": \"string\",\n",
    "                            \"enum\": [\"Celsius\", \"Fahrenheit\"],\n",
    "                            \"description\": \"The temperature unit to use.\"\n",
    "                        }\n",
    "                    },\n",
    "                    \"required\": [\"location\", \"unit\"]\n",
    "                }\n",
    "            }\n",
    "        },\n",
    "        {\n",
    "            \"type\": \"function\",\n",
    "            \"function\": {\n",
    "                \"name\": \"get_rain_probability\",\n",
    "                \"description\": \"Get the probability of rain for a specific location\",\n",
    "                \"parameters\": {\n",
    "                    \"type\": \"object\",\n",
    "                    \"properties\": {\n",
    "                        \"location\": {\n",
    "                            \"type\": \"string\",\n",
    "                            \"description\": \"The city and state, e.g., San Francisco, CA\"\n",
    "                        }\n",
    "                    },\n",
    "                    \"required\": [\"location\"]\n",
    "                }\n",
    "            }\n",
    "        }\n",
    "    ]"
   ]
  },
  {
   "cell_type": "code",
   "execution_count": 7,
   "metadata": {},
   "outputs": [],
   "source": [
    "# Function to process tool calls and get the result\n",
    "def handle_tool_call(tool_call):\n",
    "    function_name = tool_call.function.name\n",
    "    arguments = json.loads(tool_call.function.arguments)\n",
    "\n",
    "    # Map function names to actual tool function implementations\n",
    "    tools_map = {\n",
    "        \"get_current_temperature\": get_current_temperature,\n",
    "        \"get_rain_probability\": get_rain_probability,\n",
    "    }\n",
    "    return tools_map[function_name](**arguments)"
   ]
  },
  {
   "cell_type": "code",
   "execution_count": 12,
   "metadata": {},
   "outputs": [],
   "source": [
    "# Function to format tool response as a message\n",
    "def create_tool_response_message(tool_call, tool_result):\n",
    "    return {\n",
    "        \"role\": \"tool\",\n",
    "        \"tool_call_id\": tool_call.id,\n",
    "        \"name\": tool_call.function.name,\n",
    "        \"content\": json.dumps(tool_result)\n",
    "    }"
   ]
  },
  {
   "cell_type": "markdown",
   "metadata": {},
   "source": [
    "### Call the model with tools"
   ]
  },
  {
   "cell_type": "code",
   "execution_count": null,
   "metadata": {},
   "outputs": [
    {
     "name": "stdout",
     "output_type": "stream",
     "text": [
      "<aisuite.framework.chat_completion_response.ChatCompletionResponse object at 0x107eae4e0>\n",
      "content=None reasoning_content=None tool_calls=[ChatCompletionMessageToolCall(id='call_609260698694898206', function=Function(arguments='{\"unit\": \"Celsius\", \"location\": \"San Francisco, CA\"}', name='get_current_temperature'), type='function')] role='assistant' refusal=None\n"
     ]
    }
   ],
   "source": [
    "client = Client({\n",
    "    \"googlegenai\":{\n",
    "        \"project_id\": \"project-id\",\n",
    "        \"region\": \"region\",\n",
    "        \"vertexai_option\": True\n",
    "    }\n",
    "})\n",
    "\n",
    "model = \"googlegenai:gemini-2.0-flash-001\"\n",
    "\n",
    "messages = [{\n",
    "    \"role\": \"user\",\n",
    "    \"content\": \"What is the current temperature in San Francisco in Celsius?\"}]\n",
    "\n",
    "tools = get_available_tools()\n",
    "\n",
    "# Make the initial request to OpenAI API\n",
    "response = client.chat.completions.create(\n",
    "    model=model, messages=messages, tools=tools)\n",
    "\n",
    "print(response)\n",
    "print(response.choices[0].message)"
   ]
  },
  {
   "cell_type": "markdown",
   "metadata": {},
   "source": [
    "### Process tool calls - Parse tool name, args, and call the function. Pass the result to the model."
   ]
  },
  {
   "cell_type": "code",
   "execution_count": 13,
   "metadata": {},
   "outputs": [
    {
     "name": "stdout",
     "output_type": "stream",
     "text": [
      "{'temperature': 72}\n",
      "content='The current temperature in San Francisco is 72 degrees Celsius.\\n' reasoning_content=None tool_calls=None role='assistant' refusal=None\n",
      "The current temperature in San Francisco is 72 degrees Celsius.\n",
      "\n"
     ]
    }
   ],
   "source": [
    "if response.choices[0].message.tool_calls:\n",
    "    for tool_call in response.choices[0].message.tool_calls:\n",
    "        tool_result = handle_tool_call(tool_call)\n",
    "        print(tool_result)\n",
    "\n",
    "        messages.append(response.choices[0].message) # Model's function call message\n",
    "        messages.append(create_tool_response_message(tool_call, tool_result))\n",
    "        # Send the tool response back to the model\n",
    "        final_response = client.chat.completions.create(\n",
    "            model=model, messages=messages, tools=tools)\n",
    "        print(final_response.choices[0].message)\n",
    "        \n",
    "        # Output the final response from the model\n",
    "        print(final_response.choices[0].message.content)"
   ]
  },
  {
   "cell_type": "code",
   "execution_count": null,
   "metadata": {},
   "outputs": [],
   "source": []
  }
 ],
 "metadata": {
  "kernelspec": {
   "display_name": "env",
   "language": "python",
   "name": "python3"
  },
  "language_info": {
   "codemirror_mode": {
    "name": "ipython",
    "version": 3
   },
   "file_extension": ".py",
   "mimetype": "text/x-python",
   "name": "python",
   "nbconvert_exporter": "python",
   "pygments_lexer": "ipython3",
   "version": "3.12.7"
  }
 },
 "nbformat": 4,
 "nbformat_minor": 4
}
